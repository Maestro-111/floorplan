{
  "nbformat": 4,
  "nbformat_minor": 0,
  "metadata": {
    "colab": {
      "provenance": []
    },
    "kernelspec": {
      "name": "python3",
      "display_name": "Python 3"
    },
    "language_info": {
      "name": "python"
    }
  },
  "cells": [
    {
      "cell_type": "code",
      "source": [
        "!apt-get install -y poppler-utils\n",
        "!pip install PyPDF2 pdf2image opencv-python"
      ],
      "metadata": {
        "colab": {
          "base_uri": "https://localhost:8080/"
        },
        "id": "mFpB4WTUhHDF",
        "outputId": "185de85d-9faa-4b74-d8bf-fa5771b1f157"
      },
      "execution_count": null,
      "outputs": [
        {
          "output_type": "stream",
          "name": "stdout",
          "text": [
            "Reading package lists... Done\n",
            "Building dependency tree... Done\n",
            "Reading state information... Done\n",
            "poppler-utils is already the newest version (22.02.0-2ubuntu0.2).\n",
            "0 upgraded, 0 newly installed, 0 to remove and 16 not upgraded.\n",
            "Requirement already satisfied: PyPDF2 in /usr/local/lib/python3.10/dist-packages (3.0.1)\n",
            "Requirement already satisfied: pdf2image in /usr/local/lib/python3.10/dist-packages (1.16.3)\n",
            "Requirement already satisfied: opencv-python in /usr/local/lib/python3.10/dist-packages (4.8.0.76)\n",
            "Requirement already satisfied: pillow in /usr/local/lib/python3.10/dist-packages (from pdf2image) (9.4.0)\n",
            "Requirement already satisfied: numpy>=1.21.2 in /usr/local/lib/python3.10/dist-packages (from opencv-python) (1.23.5)\n"
          ]
        }
      ]
    },
    {
      "cell_type": "code",
      "execution_count": null,
      "metadata": {
        "colab": {
          "base_uri": "https://localhost:8080/"
        },
        "id": "I_KZJsRterkh",
        "outputId": "2ba4afc3-852e-4b2f-a323-32954e940b83"
      },
      "outputs": [
        {
          "output_type": "stream",
          "name": "stdout",
          "text": [
            "['Studio + media \\nAll areas and stated room dimensions are approximate. Floor area measured in accordance with Tarion Warranty Corporation bulletin #22. Actual living area will vary from the stated floor area. The purchaser acknowledges that the actual unit purchased may be a reverse layout to the plan shown. Illustration is artist concept. E. & O.E.TheE-06WilkinsSUITE AREA:          442 sq.ft.OUTDOOR AREA:    77 sq.ft.TOTAL AREA:          519 sq.ft.East\\n3rd - 9th FloorBALCONY\\nLIVING/DININGROOM13’0”(10’9”) x 23’3”LIN.\\nW/DD/W\\nENTRYMEDIAPRIVACY SCREEN\\nPRIVACY SCREEN\\nBATH', 'One bedroom\\nAll areas and stated room dimensions are approximate. Floor area measured in accordance with Tarion Warranty Corporation bulletin #22. Actual living area will vary from the stated floor area. The purchaser acknowledges that the actual unit purchased may be a reverse layout to the plan shown. Illustration is artist concept. E. & O.E.TheW-01RegencySUITE AREA:            576 sq.ft.OUTDOOR AREA:    119 sq.ft.TOTAL AREA:            695 sq.ft.West\\n4th - 7th Floor3rd FloorBALCONY\\nLIVING/DININGROOM10’6” x 16’3”\\nKITCHENBEDROOM9’6” x 12’0”\\nLIN.\\nW/DD/W\\nENTRYBATH\\nPRIVACY SCREENPRIVACY SCREEN', 'One bedroom\\nAll areas and stated room dimensions are approximate. Floor area measured in accordance with Tarion Warranty Corporation bulletin #22. Actual living area will vary from the stated floor area. The purchaser acknowledges that the actual unit purchased may be a reverse layout to the plan shown. Illustration is artist concept. E. & O.E.TheW-12HillcrestSUITE AREA:            609 sq.ft.OUTDOOR AREA:    138 sq.ft.TOTAL AREA:            747 sq.ft.\\nBALCONYLIVING/DININGROOM22’9” x 10’3” (10’0”)KITCHENLIN.\\nW/DD/W\\nENTRY\\nPRIVACY SCREENPRIVACY SCREEN\\nBEDROOM9’0” x 10’0”FROSTEDGLASS WALL\\nBATH\\n4th - 7th Floor8th - 9th FloorWest', 'One bedroom + den\\nAll areas and stated room dimensions are approximate. Floor area measured in accordance with Tarion Warranty Corporation bulletin #22. Actual living area will vary from the stated floor area. The purchaser acknowledges that the actual unit purchased may be a reverse layout to the plan shown. Illustration is artist concept. E. & O.E.TheW-03TrinitySUITE AREA:            648 sq.ft.OUTDOOR AREA:    119 sq.ft.TOTAL AREA:            767 sq.ft.West\\n3rd Floor4th - 7th FloorBALCONY\\nLIVING/DININGROOM10’6” x 16’3”\\nKITCHENBEDROOM9’6” x 11’0”\\nDEN8’0” x 7’0”LIN.W/DD/W\\nENTRYPRIVACY SCREEN\\nPRIVACY SCREEN\\nBATHENSUITE', 'One bedroom + den\\nAll areas and stated room dimensions are approximate. Floor area measured in accordance with Tarion Warranty Corporation bulletin #22. Actual living area will vary from the stated floor area. The purchaser acknowledges that the actual unit purchased may be a reverse layout to the plan shown. Illustration is artist concept. E. & O.E.TheE-19DovercourtSUITE AREA:          704 sq.ft.OUTDOOR AREA:  138 sq.ft.TOTAL AREA:          842 sq.ft.East\\n3rd - 9th FloorBALCONYPRIVACY SCREEN\\nLIVING/DININGROOM15’3” x 14’6”\\nKITCHEN\\nENTRYBATHDEN8’6” x 9’3”BEDROOM10’0” x 10’0”\\nLIN.\\nW/DD/WBATH', 'Two bedroom\\nAll areas and stated room dimensions are approximate. Floor area measured in accordance with Tarion Warranty Corporation bulletin #22. Actual living area will vary from the stated floor area. The purchaser acknowledges that the actual unit purchased may be a reverse layout to the plan shown. Illustration is artist concept. E. & O.E.TheE-12RegentSUITE AREA:          829 sq.ft.OUTDOOR AREA:    66 sq.ft.TOTAL AREA:           895 sq.ft.East\\n3rd Floor4th Floor10th - 19th FloorBALCONYLIVING/DININGROOM12’9” x 17’0”\\nKITCHEN\\nBATHBEDROOM9’6” x 9’9”\\nMASTER BEDROOM9’6” x 12’6”LIN.\\nD/W\\nENSUITEBATHW/DENTRY\\n5th - 9th Floor']\n"
          ]
        }
      ],
      "source": [
        "# Required Libraries\n",
        "import PyPDF2\n",
        "import re\n",
        "import pdf2image\n",
        "import cv2\n",
        "import numpy as np\n",
        "import pandas as pd\n",
        "\n",
        "# Extract text from PDF\n",
        "def extract_text_from_pdf(pdf_path):\n",
        "    with open(pdf_path, \"rb\") as pdf_file:\n",
        "        pdf_reader = PyPDF2.PdfReader(pdf_file)\n",
        "        texts = [pdf_reader.pages[page_num].extract_text() for page_num in range(len(pdf_reader.pages))]\n",
        "        print (texts)\n",
        "    return texts\n",
        "\n",
        "\n",
        "# Extract area and region names from the text\n",
        "# def extract_area_data(texts):\n",
        "#     pattern = r\"(\\w+ AREA):[ \\n]+(\\d+ sq\\.ft\\.)\"\n",
        "#     area_data = []\n",
        "#     for text in texts:\n",
        "#         matches = re.findall(pattern, text)\n",
        "#         area_dict = {region: area for region, area in matches}\n",
        "#         area_data.append(area_dict)\n",
        "#     return area_data\n",
        "\n",
        "def extract_area_data(texts):\n",
        "    pattern = r\"(\\w+ AREA):[ \\n]+(\\d+ sq\\.ft\\.)\"\n",
        "    area_data = []\n",
        "    for text in texts:\n",
        "        matches = re.findall(pattern, text)\n",
        "        area_dict = {region: area for region, area in matches}\n",
        "\n",
        "        # Rename the key for the suite area\n",
        "        for key in list(area_dict.keys()):\n",
        "            if 'SUITE AREA' in key:\n",
        "                suite_name = key.split('SUITE AREA')[0].strip()\n",
        "                area_dict['Suite Name'] = suite_name\n",
        "                area_dict['Suite Area'] = area_dict[key]\n",
        "                del area_dict[key]\n",
        "\n",
        "        area_data.append(area_dict)\n",
        "    return area_data\n",
        "\n",
        "\n",
        "def extract_room_details(text):\n",
        "    # Search for the pattern like 'LIVING/DININGROOM13’0”(10’9”) x 23’3”LIN.'\n",
        "    pattern = r'([A-Z/]+)(\\d+’\\d+”(?:\\(\\d+’\\d+”\\))? x \\d+’\\d+”)'\n",
        "    matches = re.findall(pattern, text, re.IGNORECASE)\n",
        "\n",
        "    room_details = {}\n",
        "    for match in matches:\n",
        "        room, dimension = match\n",
        "        room_details[room] = dimension\n",
        "\n",
        "    return room_details\n",
        "\n",
        "def extract_floor_number(text):\n",
        "    # Search for the patterns like '3rd - 9th Floor' or '3rd Floor'\n",
        "    pattern = r'(\\d+(?:st|nd|rd|th)) -? (\\d+(?:st|nd|rd|th))? Floor'\n",
        "    match = re.search(pattern, text, re.IGNORECASE)\n",
        "\n",
        "    # Return the matched floors or None if not found\n",
        "    if match:\n",
        "        start_floor = match.group(1)\n",
        "        end_floor = match.group(2) if match.group(2) else start_floor\n",
        "        return f\"{start_floor} - {end_floor}\" if start_floor != end_floor else start_floor\n",
        "    return None\n",
        "\n",
        "def extract_bedroom_type(text):\n",
        "    # Split the text by the identifier '\\nAll areas'\n",
        "    segments = text.split('\\nAll areas')\n",
        "\n",
        "    # The bedroom type should be the segment before the identifier\n",
        "    if len(segments) > 1:\n",
        "        return segments[0].strip()\n",
        "    return None\n",
        "\n",
        "\n",
        "# Convert PDF to images\n",
        "def pdf_to_images(pdf_path):\n",
        "    return pdf2image.convert_from_path(pdf_path)\n",
        "\n",
        "# Detect north direction using edge-based template matching\n",
        "def detect_north_direction(image, template):\n",
        "    img_gray = cv2.cvtColor(image, cv2.COLOR_BGR2GRAY)\n",
        "    template_gray = cv2.cvtColor(template, cv2.COLOR_BGR2GRAY)\n",
        "    img_edges = cv2.Canny(img_gray, 50, 150)\n",
        "    template_edges = cv2.Canny(template_gray, 50, 150)\n",
        "    res = cv2.matchTemplate(img_edges, template_edges, cv2.TM_CCOEFF_NORMED)\n",
        "    min_val, max_val, min_loc, max_loc = cv2.minMaxLoc(res)\n",
        "    if template.shape[0] > template.shape[1]:\n",
        "        direction = \"North/South\"\n",
        "    else:\n",
        "        direction = \"East/West\"\n",
        "    return direction\n",
        "\n",
        "# Determine front gate orientation based on north direction\n",
        "def get_front_gate_orientation(north_direction):\n",
        "    orientations = {\n",
        "        \"North/South\": \"South\",\n",
        "        \"South/North\": \"North\",\n",
        "        \"East/West\": \"East\",\n",
        "        \"West/East\": \"West\"\n",
        "    }\n",
        "    return orientations.get(north_direction, \"Unknown\")\n",
        "\n",
        "# Main code\n",
        "pdf_path = \"/content/sample_data/One-Cole-Floorplans.pdf\"\n",
        "template_path = \"/content/sample_data/indicator.png\"\n",
        "\n",
        "# Extract data\n",
        "texts = extract_text_from_pdf(pdf_path)\n",
        "area_data = extract_area_data(texts)\n",
        "images = pdf_to_images(pdf_path)\n",
        "template = cv2.imread(template_path)\n",
        "floor_numbers = [extract_floor_number(text) for text in texts]\n",
        "room_data = [extract_room_details(text) for text in texts]\n",
        "df_room = pd.DataFrame(room_data)\n",
        "bedroom_types = [extract_bedroom_type(text) for text in texts]\n",
        "\n",
        "\n",
        "# Determine north directions and front gate orientations\n",
        "north_directions = [detect_north_direction(cv2.cvtColor(np.array(img), cv2.COLOR_RGB2BGR), template) for img in images]\n",
        "front_gate_orientations = [get_front_gate_orientation(direction) for direction in north_directions]\n",
        "\n",
        "# Create and save DataFrame\n",
        "df = pd.DataFrame(area_data)\n",
        "df['Type of Bedroom'] = bedroom_types\n",
        "df['Floor Number'] = floor_numbers\n",
        "df = pd.concat([df, df_room], axis=1)\n",
        "\n",
        "df['North Direction'] = north_directions\n",
        "df['Front Gate Orientation'] = front_gate_orientations\n",
        "df['Page Number'] = range(1, len(df) + 1)\n",
        "df.to_excel(\"output_data.xlsx\", index=False)"
      ]
    },
    {
      "cell_type": "code",
      "source": [
        "\n"
      ],
      "metadata": {
        "id": "r8LQayKhhSgB"
      },
      "execution_count": null,
      "outputs": []
    },
    {
      "cell_type": "code",
      "source": [],
      "metadata": {
        "id": "phMbvgDaLdH8"
      },
      "execution_count": null,
      "outputs": []
    },
    {
      "cell_type": "code",
      "source": [
        "\n"
      ],
      "metadata": {
        "colab": {
          "base_uri": "https://localhost:8080/"
        },
        "id": "tSMoIYnGLlBt",
        "outputId": "95630fa8-af34-4951-8ebe-b201c88c6722"
      },
      "execution_count": null,
      "outputs": [
        {
          "output_type": "stream",
          "name": "stdout",
          "text": [
            "  06WilkinsSUITE AREA OUTDOOR AREA  TOTAL AREA 01RegencySUITE AREA  \\\n",
            "0          442 sq.ft.    77 sq.ft.  519 sq.ft.                 NaN   \n",
            "1                 NaN   119 sq.ft.  695 sq.ft.          576 sq.ft.   \n",
            "2                 NaN   138 sq.ft.  747 sq.ft.                 NaN   \n",
            "3                 NaN   119 sq.ft.  767 sq.ft.                 NaN   \n",
            "4                 NaN   138 sq.ft.  842 sq.ft.                 NaN   \n",
            "5                 NaN    66 sq.ft.  895 sq.ft.                 NaN   \n",
            "\n",
            "  12HillcrestSUITE AREA 03TrinitySUITE AREA 19DovercourtSUITE AREA  \\\n",
            "0                   NaN                 NaN                    NaN   \n",
            "1                   NaN                 NaN                    NaN   \n",
            "2            609 sq.ft.                 NaN                    NaN   \n",
            "3                   NaN          648 sq.ft.                    NaN   \n",
            "4                   NaN                 NaN             704 sq.ft.   \n",
            "5                   NaN                 NaN                    NaN   \n",
            "\n",
            "  12RegentSUITE AREA North Direction Front Gate Orientation  Page Number  \\\n",
            "0                NaN       East/West                   East            1   \n",
            "1                NaN       East/West                   East            2   \n",
            "2                NaN       East/West                   East            3   \n",
            "3                NaN       East/West                   East            4   \n",
            "4                NaN       East/West                   East            5   \n",
            "5         829 sq.ft.       East/West                   East            6   \n",
            "\n",
            "  Floor Number  \n",
            "0    3rd - 9th  \n",
            "1    4th - 7th  \n",
            "2    4th - 7th  \n",
            "3    4th - 7th  \n",
            "4    3rd - 9th  \n",
            "5  10th - 19th  \n"
          ]
        }
      ]
    },
    {
      "cell_type": "code",
      "source": [
        "\n"
      ],
      "metadata": {
        "id": "R8p7tZInPe4y"
      },
      "execution_count": null,
      "outputs": []
    },
    {
      "cell_type": "code",
      "source": [],
      "metadata": {
        "id": "iOpUtNQgLskU"
      },
      "execution_count": null,
      "outputs": []
    },
    {
      "cell_type": "code",
      "source": [
        "\n",
        "print(df)"
      ],
      "metadata": {
        "colab": {
          "base_uri": "https://localhost:8080/"
        },
        "id": "UfYcnw1VPlM2",
        "outputId": "a39f9e92-ad4e-4cf3-fdb6-6745a14b35e9"
      },
      "execution_count": null,
      "outputs": [
        {
          "output_type": "stream",
          "name": "stdout",
          "text": [
            "  06WilkinsSUITE AREA OUTDOOR AREA  TOTAL AREA 01RegencySUITE AREA  \\\n",
            "0          442 sq.ft.    77 sq.ft.  519 sq.ft.                 NaN   \n",
            "1                 NaN   119 sq.ft.  695 sq.ft.          576 sq.ft.   \n",
            "2                 NaN   138 sq.ft.  747 sq.ft.                 NaN   \n",
            "3                 NaN   119 sq.ft.  767 sq.ft.                 NaN   \n",
            "4                 NaN   138 sq.ft.  842 sq.ft.                 NaN   \n",
            "5                 NaN    66 sq.ft.  895 sq.ft.                 NaN   \n",
            "\n",
            "  12HillcrestSUITE AREA 03TrinitySUITE AREA 19DovercourtSUITE AREA  \\\n",
            "0                   NaN                 NaN                    NaN   \n",
            "1                   NaN                 NaN                    NaN   \n",
            "2            609 sq.ft.                 NaN                    NaN   \n",
            "3                   NaN          648 sq.ft.                    NaN   \n",
            "4                   NaN                 NaN             704 sq.ft.   \n",
            "5                   NaN                 NaN                    NaN   \n",
            "\n",
            "  12RegentSUITE AREA North Direction Front Gate Orientation  Page Number  \\\n",
            "0                NaN       East/West                   East            1   \n",
            "1                NaN       East/West                   East            2   \n",
            "2                NaN       East/West                   East            3   \n",
            "3                NaN       East/West                   East            4   \n",
            "4                NaN       East/West                   East            5   \n",
            "5         829 sq.ft.       East/West                   East            6   \n",
            "\n",
            "      LIVING/DININGROOM KITCHENBEDROOM BALCONYLIVING/DININGROOM  \\\n",
            "0  13’0”(10’9”) x 23’3”            NaN                      NaN   \n",
            "1         10’6” x 16’3”   9’6” x 12’0”                      NaN   \n",
            "2                   NaN            NaN            22’9” x 10’3”   \n",
            "3         10’6” x 16’3”   9’6” x 11’0”                      NaN   \n",
            "4         15’3” x 14’6”            NaN                      NaN   \n",
            "5                   NaN            NaN                      NaN   \n",
            "\n",
            "         BEDROOM          DEN ENTRYBATHDEN FloorBALCONYLIVING/DININGROOM  \\\n",
            "0            NaN          NaN          NaN                           NaN   \n",
            "1            NaN          NaN          NaN                           NaN   \n",
            "2   9’0” x 10’0”          NaN          NaN                           NaN   \n",
            "3            NaN  8’0” x 7’0”          NaN                           NaN   \n",
            "4  10’0” x 10’0”          NaN  8’6” x 9’3”                           NaN   \n",
            "5   9’6” x 12’6”          NaN          NaN                 12’9” x 17’0”   \n",
            "\n",
            "   BATHBEDROOM  \n",
            "0          NaN  \n",
            "1          NaN  \n",
            "2          NaN  \n",
            "3          NaN  \n",
            "4          NaN  \n",
            "5  9’6” x 9’9”  \n"
          ]
        }
      ]
    },
    {
      "cell_type": "code",
      "source": [],
      "metadata": {
        "id": "aIIjl2McPqOe"
      },
      "execution_count": null,
      "outputs": []
    },
    {
      "cell_type": "code",
      "source": [
        "\n",
        "print(df)"
      ],
      "metadata": {
        "colab": {
          "base_uri": "https://localhost:8080/"
        },
        "id": "2A8nxF7dQCOD",
        "outputId": "a0313973-54d8-4376-e0d0-38c418b30e70"
      },
      "execution_count": null,
      "outputs": [
        {
          "output_type": "stream",
          "name": "stdout",
          "text": [
            "  06WilkinsSUITE AREA OUTDOOR AREA  TOTAL AREA 01RegencySUITE AREA  \\\n",
            "0          442 sq.ft.    77 sq.ft.  519 sq.ft.                 NaN   \n",
            "1                 NaN   119 sq.ft.  695 sq.ft.          576 sq.ft.   \n",
            "2                 NaN   138 sq.ft.  747 sq.ft.                 NaN   \n",
            "3                 NaN   119 sq.ft.  767 sq.ft.                 NaN   \n",
            "4                 NaN   138 sq.ft.  842 sq.ft.                 NaN   \n",
            "5                 NaN    66 sq.ft.  895 sq.ft.                 NaN   \n",
            "\n",
            "  12HillcrestSUITE AREA 03TrinitySUITE AREA 19DovercourtSUITE AREA  \\\n",
            "0                   NaN                 NaN                    NaN   \n",
            "1                   NaN                 NaN                    NaN   \n",
            "2            609 sq.ft.                 NaN                    NaN   \n",
            "3                   NaN          648 sq.ft.                    NaN   \n",
            "4                   NaN                 NaN             704 sq.ft.   \n",
            "5                   NaN                 NaN                    NaN   \n",
            "\n",
            "  12RegentSUITE AREA North Direction Front Gate Orientation  Page Number  \\\n",
            "0                NaN       East/West                   East            1   \n",
            "1                NaN       East/West                   East            2   \n",
            "2                NaN       East/West                   East            3   \n",
            "3                NaN       East/West                   East            4   \n",
            "4                NaN       East/West                   East            5   \n",
            "5         829 sq.ft.       East/West                   East            6   \n",
            "\n",
            "      LIVING/DININGROOM KITCHENBEDROOM BALCONYLIVING/DININGROOM  \\\n",
            "0  13’0”(10’9”) x 23’3”            NaN                      NaN   \n",
            "1         10’6” x 16’3”   9’6” x 12’0”                      NaN   \n",
            "2                   NaN            NaN            22’9” x 10’3”   \n",
            "3         10’6” x 16’3”   9’6” x 11’0”                      NaN   \n",
            "4         15’3” x 14’6”            NaN                      NaN   \n",
            "5                   NaN            NaN                      NaN   \n",
            "\n",
            "         BEDROOM          DEN ENTRYBATHDEN FloorBALCONYLIVING/DININGROOM  \\\n",
            "0            NaN          NaN          NaN                           NaN   \n",
            "1            NaN          NaN          NaN                           NaN   \n",
            "2   9’0” x 10’0”          NaN          NaN                           NaN   \n",
            "3            NaN  8’0” x 7’0”          NaN                           NaN   \n",
            "4  10’0” x 10’0”          NaN  8’6” x 9’3”                           NaN   \n",
            "5   9’6” x 12’6”          NaN          NaN                 12’9” x 17’0”   \n",
            "\n",
            "   BATHBEDROOM    Type of Bedroom  \n",
            "0          NaN     Studio + media  \n",
            "1          NaN        One bedroom  \n",
            "2          NaN        One bedroom  \n",
            "3          NaN  One bedroom + den  \n",
            "4          NaN  One bedroom + den  \n",
            "5  9’6” x 9’9”        Two bedroom  \n"
          ]
        }
      ]
    },
    {
      "cell_type": "code",
      "source": [
        "print(area_data)"
      ],
      "metadata": {
        "colab": {
          "base_uri": "https://localhost:8080/"
        },
        "id": "NgUYl1ZxR-tU",
        "outputId": "e71c1b99-5123-42c6-bfd5-aaed0cb9b447"
      },
      "execution_count": null,
      "outputs": [
        {
          "output_type": "stream",
          "name": "stdout",
          "text": [
            "[{'OUTDOOR AREA': '77 sq.ft.', 'TOTAL AREA': '519 sq.ft.', 'Suite Name': '06Wilkins', 'Suite Area': '442 sq.ft.'}, {'OUTDOOR AREA': '119 sq.ft.', 'TOTAL AREA': '695 sq.ft.', 'Suite Name': '01Regency', 'Suite Area': '576 sq.ft.'}, {'OUTDOOR AREA': '138 sq.ft.', 'TOTAL AREA': '747 sq.ft.', 'Suite Name': '12Hillcrest', 'Suite Area': '609 sq.ft.'}, {'OUTDOOR AREA': '119 sq.ft.', 'TOTAL AREA': '767 sq.ft.', 'Suite Name': '03Trinity', 'Suite Area': '648 sq.ft.'}, {'OUTDOOR AREA': '138 sq.ft.', 'TOTAL AREA': '842 sq.ft.', 'Suite Name': '19Dovercourt', 'Suite Area': '704 sq.ft.'}, {'OUTDOOR AREA': '66 sq.ft.', 'TOTAL AREA': '895 sq.ft.', 'Suite Name': '12Regent', 'Suite Area': '829 sq.ft.'}]\n"
          ]
        }
      ]
    },
    {
      "cell_type": "code",
      "source": [],
      "metadata": {
        "id": "F-E7_X4CSK2r"
      },
      "execution_count": null,
      "outputs": []
    }
  ]
}